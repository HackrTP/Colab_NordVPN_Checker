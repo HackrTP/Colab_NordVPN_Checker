{
  "nbformat": 4,
  "nbformat_minor": 0,
  "metadata": {
    "colab": {
      "provenance": []
    },
    "kernelspec": {
      "name": "python3",
      "display_name": "Python 3"
    },
    "language_info": {
      "name": "python"
    }
  },
  "cells": [
    {
      "cell_type": "code",
      "execution_count": null,
      "metadata": {
        "id": "DBJPgamt6EHj"
      },
      "outputs": [],
      "source": [
        "# ​1. Open the folder icon on the left\n",
        "# 2. Click the icon showing a file with a up facing arrow\n",
        "# 3. Go to /content\n",
        "# 4. Right click it or click the three dots on the right of the folder\n",
        "# 5. Select upload\n",
        "# 6. Choose your txt file with your Nord VPN accounts with passwords\n",
        "# 7. Edit line 17 (Starts with !python) and replace \"File Name\" with your text file name\n",
        "# 8. Click the white circle with the triangle to run!\n",
        "# 9. Once it finishes, download the /content/working.txt file for the working NordVPN accounts\n",
        "\n",
        "!sh <(wget -qO - https://downloads.nordcdn.com/apps/linux/install.sh)\n",
        "!git clone https://github.com/behnambm/nordvpn-checker\n",
        "!pip install black\n",
        "!black -t py38 /content/nordvpn-checker/nord-checker.py\n",
        "\n",
        "# Upload text file with NordVPN accounts to check\n",
        "# Directory containing text file should be in /content/\"File Name\"\n",
        "!python /content/nordvpn-checker/nord-checker.py -f /content/\"File Name\" -o /content/working.txt\n",
        "\n",
        "# Usage\n",
        "# The syntax is\n",
        "\n",
        "# nord-checker.py [--file | -f] path/to/file [--output | -o] path/to/file [--connect | -c] [--delete | -d]\n",
        "\n",
        "#  Arguments\n",
        "\n",
        "#   -f FILE, --file FILE    The file that contains your email:password entries\n",
        "#   -o FILE, --output FILE  The file to output the successful email:password entries to\n",
        "#   -c, --connect           login & connect\n",
        "#   -d, --delete            remove faulty password lines in input-file"
      ]
    }
  ]
}