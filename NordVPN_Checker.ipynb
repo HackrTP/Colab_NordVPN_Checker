{
  "nbformat": 4,
  "nbformat_minor": 0,
  "metadata": {
    "colab": {
      "provenance": [],
      "authorship_tag": "ABX9TyNlIMJhxiZxuxgHhicBW+Ev",
      "include_colab_link": true
    },
    "kernelspec": {
      "name": "python3",
      "display_name": "Python 3"
    },
    "language_info": {
      "name": "python"
    }
  },
  "cells": [
    {
      "cell_type": "markdown",
      "metadata": {
        "id": "view-in-github",
        "colab_type": "text"
      },
      "source": [
        "<a href=\"https://colab.research.google.com/github/HackrTP/Collab_NordVPN_Checker/blob/main/NordVPN_Checker.ipynb\" target=\"_parent\"><img src=\"https://colab.research.google.com/assets/colab-badge.svg\" alt=\"Open In Colab\"/></a>"
      ]
    },
    {
      "cell_type": "code",
      "execution_count": null,
      "metadata": {
        "id": "DBJPgamt6EHj"
      },
      "outputs": [],
      "source": [
        "!sh <(wget -qO - https://downloads.nordcdn.com/apps/linux/install.sh)\n",
        "!git clone https://github.com/behnambm/nordvpn-checker\n",
        "!cd /content/nordvpn-checker\n",
        "!pip install black\n",
        "!black -t py38 /content/nordvpn-checker/nord-checker.py\n",
        "\n",
        "# Upload text file with NordVPN accounts to check\n",
        "# Directory containing text file should be in /content/\"File Name\"\n",
        "!python /content/nordvpn-checker/nord-checker.py -f /content/\"File Name\" -o /content/working.txt\n",
        "\n",
        "# Usage\n",
        "# The syntax is\n",
        "\n",
        "# nord-checker.py [--file | -f] path/to/file [--output | -o] path/to/file [--connect | -c] [--delete | -d]\n",
        "\n",
        "#  Arguments\n",
        "\n",
        "#   -f FILE, --file FILE  The file that contains your email:password entries\n",
        "#   -o FILE, --output FILE\n",
        "#                        The file to output the successful email:password entries to\n",
        "#   -c, --connect         login & connect\n",
        "#   -d, --delete          remove faulty password lines in input-file"
      ]
    }
  ]
}